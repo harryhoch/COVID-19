{
 "cells": [
  {
   "cell_type": "markdown",
   "metadata": {},
   "source": [
    "# Dataset diversity in COVID-19 repository"
   ]
  },
  {
   "cell_type": "markdown",
   "metadata": {},
   "source": [
    "In an attempt to track data relevant to the 2020 COVID-19 outbreak, a group of researchers has developed a data clearinghouse, containing a variety of datasets along with metadata and data dictionaries.\n",
    "\n",
    "Here, we attempt to understand the diversity of the attributes (columns) in those datasets."
   ]
  },
  {
   "cell_type": "markdown",
   "metadata": {},
   "source": [
    "## Strategy.\n",
    "\n",
    "1. eunmerate all of the directories and their associated data dictionaries, as found in the data_guide.csv files\n",
    "2. examine each of the data_guide.csv files to identify the fields contained. \n",
    "3. Come up with a master list of fields and frequences, as well as a list of fields/dataset."
   ]
  },
  {
   "cell_type": "markdown",
   "metadata": {},
   "source": [
    "## enumerating and finding data dictionaries. "
   ]
  },
  {
   "cell_type": "code",
   "execution_count": 2,
   "metadata": {},
   "outputs": [],
   "source": [
    "from os import listdir\n",
    "from os.path import isfile, join\n",
    "import glob"
   ]
  },
  {
   "cell_type": "code",
   "execution_count": 3,
   "metadata": {},
   "outputs": [],
   "source": [
    "files=glob.glob(\"../data/**/data_guide.csv\",recursive=True)"
   ]
  },
  {
   "cell_type": "code",
   "execution_count": 4,
   "metadata": {},
   "outputs": [
    {
     "data": {
      "text/plain": [
       "['../data/cases/south korea/confirmed_cases_movement/data_guide.csv',\n",
       " '../data/cases/china/daily_cases_chinacdc_ZH/data_guide.csv',\n",
       " '../data/cases/china/death_count_imperial_college/data_guide.csv',\n",
       " '../data/cases/china/daily_cases_chinacdc_EN/data_guide.csv',\n",
       " '../data/cases/china/cases_travel/data_guide.csv',\n",
       " '../data/cases/china/cumulative_cases_DXY/data_guide.csv',\n",
       " '../data/cases/europe/europe_situation_updates/data_guide.csv',\n",
       " '../data/cases/global/line_listings_nihfogarty/data_guide.csv',\n",
       " '../data/cases/global/line_listings_imperial_college/data_guide.csv',\n",
       " '../data/cases/global/line_listings_oxford/data_guide.csv',\n",
       " '../data/cases/canada/ontario_situation_updates/data_guide.csv',\n",
       " '../data/data_from_papers/dataset_luo-et-al_202002/data_guide.csv']"
      ]
     },
     "execution_count": 4,
     "metadata": {},
     "output_type": "execute_result"
    }
   ],
   "source": [
    "files"
   ]
  },
  {
   "cell_type": "markdown",
   "metadata": {},
   "source": [
    "### nice. now split and iterate over each of them"
   ]
  },
  {
   "cell_type": "markdown",
   "metadata": {},
   "source": [
    "ok. how to store this.  We want a dictionary, keyeed by directory name ('confirmed_cases_movement').  each item in that dictionary will have a type (cases,data_from_papers), a local (south korea, etc.) and a list of fields that we will get from the data guide. \n"
   ]
  },
  {
   "cell_type": "markdown",
   "metadata": {},
   "source": [
    "ok. we're interested in full_name_en - the fourth field. read the CSV with pandas and grab the fourth column"
   ]
  },
  {
   "cell_type": "markdown",
   "metadata": {},
   "source": [
    "ok. Tie this together - take a full file name, return tuple of name, type,subtype, locale, and list of fields"
   ]
  },
  {
   "cell_type": "code",
   "execution_count": 39,
   "metadata": {},
   "outputs": [],
   "source": [
    "def proc_data_guide(f):\n",
    "    res={}\n",
    "    path_comps = f.split('/')\n",
    "    if len(path_comps) ==6:\n",
    "        res['type']=path_comps[1]\n",
    "        res['subtype']=path_comps[2]\n",
    "        res['locale']=path_comps[3]\n",
    "        name=path_comps[4]\n",
    "    else: # shorter. no /local\n",
    "        res['type']=path_comps[1]\n",
    "        res['subtype']=path_comps[2]\n",
    "        name=path_comps[3]\n",
    "    \n",
    "        \n",
    "    pfields = pandas.read_csv(f)\n",
    "    cols = pfields['full_name_en']\n",
    "    res['fields'] = cols.values.tolist()\n",
    "    return (name,res)"
   ]
  },
  {
   "cell_type": "code",
   "execution_count": 41,
   "metadata": {},
   "outputs": [
    {
     "data": {
      "text/plain": [
       "('dataset_luo-et-al_202002',\n",
       " {'type': 'data',\n",
       "  'subtype': 'data_from_papers',\n",
       "  'fields': ['Province',\n",
       "   'R0_mean',\n",
       "   'Absolute_Humidity',\n",
       "   'Temperature_Mean',\n",
       "   'Cumulative_Cases',\n",
       "   'R0_confidence_interval_Upper',\n",
       "   'R0_confidence_interval_Lower',\n",
       "   'Country.Region',\n",
       "   'PopulationDensity_2014',\n",
       "   'Lat',\n",
       "   'Long',\n",
       "   'Capital']})"
      ]
     },
     "execution_count": 41,
     "metadata": {},
     "output_type": "execute_result"
    }
   ],
   "source": [
    "proc_data_guide(files[-1])"
   ]
  },
  {
   "cell_type": "markdown",
   "metadata": {},
   "source": [
    "### now, we have to (a) do that for all files, and (b) accumulate all field names"
   ]
  },
  {
   "cell_type": "code",
   "execution_count": 42,
   "metadata": {},
   "outputs": [],
   "source": [
    "def proc_files(flist):\n",
    "    res={}\n",
    "    for f in flist:\n",
    "        (name,result)=proc_data_guide(f)\n",
    "        res[name]=result\n",
    "    return res"
   ]
  },
  {
   "cell_type": "code",
   "execution_count": 43,
   "metadata": {},
   "outputs": [],
   "source": [
    "result = proc_files(files)"
   ]
  },
  {
   "cell_type": "code",
   "execution_count": 46,
   "metadata": {},
   "outputs": [
    {
     "data": {
      "text/plain": [
       "True"
      ]
     },
     "execution_count": 46,
     "metadata": {},
     "output_type": "execute_result"
    }
   ],
   "source": [
    "b={}\n",
    "not 'a' in b"
   ]
  },
  {
   "cell_type": "code",
   "execution_count": null,
   "metadata": {},
   "outputs": [],
   "source": []
  },
  {
   "cell_type": "code",
   "execution_count": 48,
   "metadata": {},
   "outputs": [],
   "source": [
    "summary =  {}\n",
    "for name,data in result.items():\n",
    "    fields = data['fields']\n",
    "    for field in fields:\n",
    "        if not field in summary:\n",
    "            summary[field]=0\n",
    "        summary[field]=summary[field]+1"
   ]
  },
  {
   "cell_type": "code",
   "execution_count": 50,
   "metadata": {},
   "outputs": [
    {
     "data": {
      "text/plain": [
       "137"
      ]
     },
     "execution_count": 50,
     "metadata": {},
     "output_type": "execute_result"
    }
   ],
   "source": [
    "len(summary)"
   ]
  },
  {
   "cell_type": "code",
   "execution_count": 53,
   "metadata": {},
   "outputs": [],
   "source": [
    "counts = [x[1] for x in summary.items()]"
   ]
  },
  {
   "cell_type": "code",
   "execution_count": 55,
   "metadata": {},
   "outputs": [
    {
     "name": "stdout",
     "output_type": "stream",
     "text": [
      "1.1605839416058394\n"
     ]
    }
   ],
   "source": [
    "import statistics\n",
    "print(statistics.mean(counts))"
   ]
  },
  {
   "cell_type": "code",
   "execution_count": 56,
   "metadata": {},
   "outputs": [
    {
     "data": {
      "text/plain": [
       "0.4575120802380646"
      ]
     },
     "execution_count": 56,
     "metadata": {},
     "output_type": "execute_result"
    }
   ],
   "source": [
    "statistics.stdev(counts)"
   ]
  },
  {
   "cell_type": "code",
   "execution_count": null,
   "metadata": {},
   "outputs": [],
   "source": []
  }
 ],
 "metadata": {
  "kernelspec": {
   "display_name": "Python 3",
   "language": "python",
   "name": "python3"
  },
  "language_info": {
   "codemirror_mode": {
    "name": "ipython",
    "version": 3
   },
   "file_extension": ".py",
   "mimetype": "text/x-python",
   "name": "python",
   "nbconvert_exporter": "python",
   "pygments_lexer": "ipython3",
   "version": "3.6.8"
  }
 },
 "nbformat": 4,
 "nbformat_minor": 2
}
